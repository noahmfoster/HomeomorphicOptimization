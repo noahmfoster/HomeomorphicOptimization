{
 "cells": [
  {
   "cell_type": "code",
   "execution_count": 9,
   "metadata": {},
   "outputs": [],
   "source": [
    "import sys\n",
    "sys.path.append('/users/nfoster3/data/nfoster3/two_bit_bananas')\n",
    "sys.path.append('/users/nfoster3/data/nfoster3/two_bit_bananas/simple_test')\n",
    "\n",
    "from torch.utils.data import DataLoader\n",
    "from FakeData import CorrelatedDataset\n",
    "from tqdm import tqdm\n",
    "import torch\n",
    "\n",
    "from SimpleModel import AnnealedModel\n",
    "\n",
    "# Create a CorrelatedDataset object with noise=0.2\n",
    "correlated_dataset = CorrelatedDataset(num_samples=1000)\n",
    "\n",
    "# Create a DataLoader with batch size 32 and shuffle the data with 10% set asside for testing\n",
    "dataloader = DataLoader(correlated_dataset, batch_size=32, shuffle=True, drop_last=True)"
   ]
  },
  {
   "cell_type": "code",
   "execution_count": 10,
   "metadata": {},
   "outputs": [],
   "source": [
    "def train(model, epochs, dataloader, lr=1e-4, final_temperature=200.0, device = 'cuda:0'):\n",
    "    # Set the model to training mode\n",
    "    model.train()\n",
    "    model = model.to(device)\n",
    "    # Create an optimizer\n",
    "    optimizer = torch.optim.SGD(model.parameters(), lr=lr)\n",
    "    \n",
    "    temp_increase = (final_temperature -1.0) ** (1.0 / (epochs -1))\n",
    "    # Create a progress bar\n",
    "    progress_bar = tqdm(range(epochs))\n",
    "    \n",
    "    # Loop over the epochs\n",
    "    for epoch in progress_bar:\n",
    "        # Loop over the data\n",
    "        for data, labels in tqdm(dataloader):\n",
    "            # Move the data to the device\n",
    "            data = data.to(device)\n",
    "            labels = labels.to(device)\n",
    "            # Zero out the gradients\n",
    "            optimizer.zero_grad()\n",
    "            \n",
    "            # 1-Hot encode the labels\n",
    "            labels = torch.nn.functional.one_hot(labels, num_classes=2).float()\n",
    "            loss = torch.nn.functional.binary_cross_entropy_with_logits(model(data), labels)\n",
    "\n",
    "            # Compute Training Accuracy\n",
    "            predictions = torch.sigmoid(model(data))\n",
    "            predictions = torch.round(predictions)\n",
    "            accuracy = torch.sum(predictions == labels) / labels.shape[0]\n",
    "            \n",
    "            # Backpropagate the loss\n",
    "            loss.backward()\n",
    "            \n",
    "            # Take a step\n",
    "            optimizer.step()\n",
    "\n",
    "            # Update the progress bar\n",
    "            progress_bar.set_description(f'Epoch {epoch} Loss {loss.item():.4f} Temperature {model.temperature:.4f} Accuracy {accuracy:.4f}')\n",
    "\n",
    "            # Increase the temperature\n",
    "        model.set_temperature(model.temperature * temp_increase)\n"
   ]
  },
  {
   "cell_type": "code",
   "execution_count": 11,
   "metadata": {},
   "outputs": [],
   "source": [
    "model = AnnealedModel(\n",
    "    input_size=10,\n",
    "    output_size=2,\n",
    "    hidden_size=10,\n",
    "    hidden_layers=0,\n",
    "    bias=True\n",
    ")"
   ]
  },
  {
   "cell_type": "code",
   "execution_count": 12,
   "metadata": {},
   "outputs": [
    {
     "name": "stderr",
     "output_type": "stream",
     "text": [
      "100%|████████████████████████████████████████████████████████████████████████████████████████████████████████████████████████████████████████████████████████████| 31/31 [00:00<00:00, 179.16it/s]\n",
      "100%|████████████████████████████████████████████████████████████████████████████████████████████████████████████████████████████████████████████████████████████| 31/31 [00:00<00:00, 184.00it/s]\n",
      "100%|████████████████████████████████████████████████████████████████████████████████████████████████████████████████████████████████████████████████████████████| 31/31 [00:00<00:00, 176.47it/s]\n",
      "100%|████████████████████████████████████████████████████████████████████████████████████████████████████████████████████████████████████████████████████████████| 31/31 [00:00<00:00, 178.24it/s]\n",
      "100%|████████████████████████████████████████████████████████████████████████████████████████████████████████████████████████████████████████████████████████████| 31/31 [00:00<00:00, 177.68it/s]\n",
      "100%|████████████████████████████████████████████████████████████████████████████████████████████████████████████████████████████████████████████████████████████| 31/31 [00:00<00:00, 183.48it/s]\n",
      "100%|████████████████████████████████████████████████████████████████████████████████████████████████████████████████████████████████████████████████████████████| 31/31 [00:00<00:00, 179.92it/s]\n",
      "100%|████████████████████████████████████████████████████████████████████████████████████████████████████████████████████████████████████████████████████████████| 31/31 [00:00<00:00, 177.05it/s]\n",
      "100%|████████████████████████████████████████████████████████████████████████████████████████████████████████████████████████████████████████████████████████████| 31/31 [00:00<00:00, 176.60it/s]\n",
      "100%|████████████████████████████████████████████████████████████████████████████████████████████████████████████████████████████████████████████████████████████| 31/31 [00:00<00:00, 173.66it/s]\n",
      "Epoch 9 Loss 0.6945 Temperature 199.0001 Accuracy 0.9375: 100%|███████████████████████████████████████████████████████████████████████████████████████████████████| 10/10 [00:01<00:00,  5.47it/s]\n"
     ]
    }
   ],
   "source": [
    "train(model, 10, dataloader, lr=1e-4, final_temperature=200.0)"
   ]
  },
  {
   "cell_type": "code",
   "execution_count": 13,
   "metadata": {},
   "outputs": [],
   "source": [
    "model.eval()"
   ]
  },
  {
   "cell_type": "code",
   "execution_count": 14,
   "metadata": {},
   "outputs": [],
   "source": [
    "test_dataset = CorrelatedDataset(num_samples=100)\n",
    "test_dataloader = DataLoader(test_dataset, batch_size=32, shuffle=True, drop_last=True)"
   ]
  },
  {
   "cell_type": "code",
   "execution_count": 15,
   "metadata": {},
   "outputs": [],
   "source": [
    "def test(model, test_dataloader):\n",
    "    model.eval()\n",
    "    model = model.to('cuda:0')\n",
    "    total = 0\n",
    "    correct = 0\n",
    "    for data, labels in test_dataloader:\n",
    "        data = data.to('cuda:0')\n",
    "        labels = labels.to('cuda:0')\n",
    "        predictions = torch.nn.functional.softmax(model(data), dim=1)\n",
    "        predictions = torch.argmax(predictions, dim=1)\n",
    "        correct += torch.sum(predictions == labels)\n",
    "        total += labels.numel()\n",
    "    return correct / total"
   ]
  },
  {
   "cell_type": "code",
   "execution_count": 18,
   "metadata": {},
   "outputs": [
    {
     "name": "stdout",
     "output_type": "stream",
     "text": [
      "Test Accuracy: 0.5000\n",
      "Layer 0\n",
      "tensor([[-1., -1., -1., -1., -1.,  2.,  2.,  2.,  2.,  2.],\n",
      "        [-1., -1., -1., -1., -1.,  2.,  2.,  2.,  2.,  2.],\n",
      "        [-1., -1., -1., -1., -1.,  2.,  2.,  2.,  2.,  2.],\n",
      "        [-1., -1., -1., -1., -1.,  2.,  2.,  2.,  2.,  2.],\n",
      "        [-1., -1., -1., -1., -1.,  2.,  2.,  2.,  2.,  2.],\n",
      "        [-1., -1., -1., -1., -1.,  2.,  2.,  2.,  2.,  2.],\n",
      "        [-1., -1., -1., -1., -1.,  2.,  2.,  2.,  2.,  2.],\n",
      "        [-1., -1., -1., -1., -1.,  2.,  2.,  2.,  2.,  2.],\n",
      "        [-1., -1., -1., -1., -1.,  2.,  2.,  2.,  2.,  2.],\n",
      "        [-1., -1., -1., -1., -1.,  2.,  2.,  2.,  2.,  2.]], device='cuda:0')\n",
      "tensor([-1., -1., -1., -1., -1., -1., -1., -1., -1., -1.], device='cuda:0')\n",
      "Layer 1\n",
      "tensor([[-1., -1., -1., -1., -1., -1., -1., -1., -1., -1.],\n",
      "        [-1., -1., -1., -1., -1., -1., -1., -1., -1., -1.]], device='cuda:0')\n",
      "tensor([-1., -1.], device='cuda:0')\n"
     ]
    }
   ],
   "source": [
    "result = test(model, test_dataloader)\n",
    "print(f\"Test Accuracy: {result:.4f}\")\n",
    "for i, layer in enumerate(model.layers):\n",
    "    print(f\"Layer {i}\")\n",
    "    print(layer.weight)\n",
    "    print(layer.bias)"
   ]
  }
 ],
 "metadata": {
  "kernelspec": {
   "display_name": "Python 3 (ipykernel)",
   "language": "python",
   "name": "python3"
  },
  "language_info": {
   "codemirror_mode": {
    "name": "ipython",
    "version": 3
   },
   "file_extension": ".py",
   "mimetype": "text/x-python",
   "name": "python",
   "nbconvert_exporter": "python",
   "pygments_lexer": "ipython3",
   "version": "3.7.4"
  },
  "orig_nbformat": 4
 },
 "nbformat": 4,
 "nbformat_minor": 2
}
