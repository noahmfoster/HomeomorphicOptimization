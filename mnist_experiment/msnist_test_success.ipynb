{
 "cells": [
  {
   "cell_type": "code",
   "execution_count": 1,
   "metadata": {},
   "outputs": [],
   "source": [
    "import sys\n",
    "sys.path.append('/users/nfoster3/data/nfoster3/two_bit_bananas')\n",
    "sys.path.append('/users/nfoster3/data/nfoster3/two_bit_bananas/simple_test')\n",
    "\n",
    "from torch.utils.data import DataLoader\n",
    "from tqdm import tqdm\n",
    "from PIL import Image\n",
    "import torch\n",
    "# import mnist from torchvision.datasets\n",
    "from torchvision.datasets import MNIST\n",
    "from torchvision.transforms import ToTensor\n",
    "\n",
    "from SimpleModel import AnnealedModel\n",
    "\n",
    "preprocessor = lambda x: ToTensor()(x).flatten()\n",
    "\n",
    "mnist_dataset = MNIST(download=True, root='/users/nfoster3/data/nfoster3/two_bit_bananas/mnist_test/data', train=True, transform=preprocessor)\n",
    "\n",
    "# Create a DataLoader with batch size 32 and shuffle the data with 10% set asside for testing\n",
    "dataloader = DataLoader(mnist_dataset, batch_size=64, shuffle=True, drop_last=True)"
   ]
  },
  {
   "cell_type": "code",
   "execution_count": 2,
   "metadata": {},
   "outputs": [],
   "source": [
    "def train(model, epochs, dataloader, lr=1e-4, final_temperature=200.0, lmbda = None, device = 'cuda:0'):\n",
    "    # Set the model to training mode\n",
    "    model.train()\n",
    "    model = model.to(device)\n",
    "    # Create an optimizer\n",
    "    optimizer = torch.optim.SGD(model.parameters(), lr=lr)\n",
    "    \n",
    "    temp_increase = (final_temperature /1.0) ** (1.0 / (epochs -1))\n",
    "    \n",
    "    # Loop over the epochs\n",
    "    for epoch in range(epochs):\n",
    "        # Loop over the data\n",
    "        batch_progress_bar = tqdm(dataloader)\n",
    "        for data, labels in batch_progress_bar:\n",
    "            # Move the data to the device\n",
    "            data = data.to(device)\n",
    "            labels = labels.to(device)\n",
    "            # Zero out the gradients\n",
    "            optimizer.zero_grad()\n",
    "            \n",
    "            # 1-Hot encode the labels\n",
    "            ce_loss = torch.nn.functional.cross_entropy(model(data), labels)\n",
    "            # ce_loss = torch.tensor(0.0, requires_grad=False)\n",
    "            if lmbda is not None:\n",
    "                l0 = lmbda * model.compute_l0()\n",
    "            else:\n",
    "                l0 = torch.tensor(0.0, requires_grad=False)\n",
    "            loss = ce_loss +  l0\n",
    "            \n",
    "            # Backpropagate the loss\n",
    "            loss.backward()\n",
    "            \n",
    "            # Take a step\n",
    "            optimizer.step()\n",
    "\n",
    "            # Compute Training Accuracy\n",
    "            predictions = torch.argmax(model(data), dim=-1)\n",
    "            accuracy = torch.sum(predictions == labels) / labels.shape[0]\n",
    "\n",
    "            # Update the progress bar\n",
    "            batch_progress_bar.set_description(f'Epoch {epoch} CE Loss {ce_loss.item():.4f} L0 Loss {l0.item():.4f} Temp {model.temperature:.0f} Accuracy {accuracy:.4f}')\n",
    "\n",
    "            # Increase the temperature\n",
    "        model.set_temperature(model.temperature * temp_increase)\n"
   ]
  },
  {
   "cell_type": "code",
   "execution_count": 3,
   "metadata": {},
   "outputs": [],
   "source": [
    "model = AnnealedModel(\n",
    "    input_size=784,\n",
    "    output_size=10,\n",
    "    hidden_size=256,\n",
    "    hidden_layers=10,\n",
    "    bias=True,\n",
    "    softmax=False,\n",
    ")"
   ]
  },
  {
   "cell_type": "code",
   "execution_count": 4,
   "metadata": {},
   "outputs": [
    {
     "name": "stderr",
     "output_type": "stream",
     "text": [
      "Epoch 0 CE Loss 10.4082 L0 Loss 0.0086 Temp 1 Accuracy 0.3281: 100%|█████████████████████████████████████████████████| 937/937 [00:20<00:00, 45.00it/s]\n",
      "Epoch 1 CE Loss 3.3203 L0 Loss 0.0086 Temp 4 Accuracy 0.7031: 100%|██████████████████████████████████████████████████| 937/937 [00:20<00:00, 45.65it/s]\n",
      "Epoch 2 CE Loss 0.9039 L0 Loss 0.0086 Temp 14 Accuracy 0.7656: 100%|█████████████████████████████████████████████████| 937/937 [00:20<00:00, 45.22it/s]\n",
      "Epoch 3 CE Loss 0.5123 L0 Loss 0.0086 Temp 53 Accuracy 0.9062: 100%|█████████████████████████████████████████████████| 937/937 [00:20<00:00, 45.38it/s]\n",
      "Epoch 4 CE Loss 0.3845 L0 Loss 0.0086 Temp 200 Accuracy 0.9062: 100%|████████████████████████████████████████████████| 937/937 [00:20<00:00, 45.68it/s]\n"
     ]
    }
   ],
   "source": [
    "train(model, 5, dataloader, lr=1e-2, final_temperature=200.0, lmbda=1e-8, device='cuda:0')"
   ]
  },
  {
   "cell_type": "code",
   "execution_count": 5,
   "metadata": {},
   "outputs": [],
   "source": [
    "model.eval()"
   ]
  },
  {
   "cell_type": "code",
   "execution_count": 6,
   "metadata": {},
   "outputs": [],
   "source": [
    "test_dataset = MNIST(download=True, root='/users/nfoster3/data/nfoster3/two_bit_bananas/mnist_test/data', transform=preprocessor, target_transform=None, train=False)\n",
    "test_dataloader = DataLoader(test_dataset, batch_size=32, shuffle=True, drop_last=True)"
   ]
  },
  {
   "cell_type": "code",
   "execution_count": 7,
   "metadata": {},
   "outputs": [],
   "source": [
    "def test(model, test_dataloader):\n",
    "    model.eval()\n",
    "    model = model.to('cuda:0')\n",
    "    total = 0\n",
    "    correct = 0\n",
    "    for data, labels in test_dataloader:\n",
    "        data = data.to('cuda:0')\n",
    "        labels = labels.to('cuda:0')\n",
    "        predictions = torch.argmax(model(data), dim=1)\n",
    "        correct += torch.sum(predictions == labels)\n",
    "        total += labels.numel()\n",
    "    return correct / total"
   ]
  },
  {
   "cell_type": "code",
   "execution_count": 8,
   "metadata": {},
   "outputs": [
    {
     "name": "stdout",
     "output_type": "stream",
     "text": [
      "Test Accuracy: 0.8850\n"
     ]
    }
   ],
   "source": [
    "result = test(model, test_dataloader)\n",
    "print(f\"Test Accuracy: {result:.4f}\")"
   ]
  },
  {
   "cell_type": "code",
   "execution_count": 10,
   "metadata": {},
   "outputs": [],
   "source": [
    "# Save the model\n",
    "# torch.save(model.state_dict(), '/users/nfoster3/data/nfoster3/two_bit_bananas/mnist_test/model.pt')"
   ]
  }
 ],
 "metadata": {
  "kernelspec": {
   "display_name": "Python 3 (ipykernel)",
   "language": "python",
   "name": "python3"
  },
  "language_info": {
   "codemirror_mode": {
    "name": "ipython",
    "version": 3
   },
   "file_extension": ".py",
   "mimetype": "text/x-python",
   "name": "python",
   "nbconvert_exporter": "python",
   "pygments_lexer": "ipython3",
   "version": "3.7.4"
  },
  "orig_nbformat": 4
 },
 "nbformat": 4,
 "nbformat_minor": 2
}
